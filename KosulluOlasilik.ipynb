{
  "nbformat": 4,
  "nbformat_minor": 0,
  "metadata": {
    "colab": {
      "name": "Untitled2.ipynb",
      "provenance": [],
      "collapsed_sections": [],
      "authorship_tag": "ABX9TyMtYHQk17Hyw9QLuSOQRcKp",
      "include_colab_link": true
    },
    "kernelspec": {
      "name": "python3",
      "display_name": "Python 3"
    },
    "language_info": {
      "name": "python"
    }
  },
  "cells": [
    {
      "cell_type": "markdown",
      "metadata": {
        "id": "view-in-github",
        "colab_type": "text"
      },
      "source": [
        "<a href=\"https://colab.research.google.com/github/sumeyyekemer/S_Work/blob/master/KosulluOlasilik.ipynb\" target=\"_parent\"><img src=\"https://colab.research.google.com/assets/colab-badge.svg\" alt=\"Open In Colab\"/></a>"
      ]
    },
    {
      "cell_type": "markdown",
      "metadata": {
        "id": "F7TM0p6hSvjX"
      },
      "source": [
        "Koşullu Olasılık\n",
        "\n",
        "Bir olayın, başka bir olayın meydana gelmesi koşulu altında ortaya çıkması olasılığıdır.\n",
        "B olayı bilindiğinde A olayının ortaya çıkması olasılığı,\n",
        "\n",
        "P(A|B) = P(A ∩ B)/P(B)  ile gösterilir ve B olayı verilmişken A olayının koşullu olasılığı olarak adlandırılır. \n",
        "\n",
        "ÖRNEK SORU\n",
        "\n",
        "Bir okulun öğrencilerinden %45’i fizik, %35’i matematik derslerinden ve %25’i hem fizik hem de matematik derslerinden başarısızdır. Rasgele seçilen bir öğrencinin,\n",
        "\n",
        "a) Fizikten başarısız olduğu biliniyorsa, matematikten de başarısız olma olasılığını bulunuz.\n",
        "\n",
        "b)Matematikten başarısız olduğu biliniyor ise, fizikten de başarısız olma olasılığını bulunuz.\n",
        "\n",
        "M = Matematikten başarısız olanlar\n",
        "\n",
        "F= Fizikten başarısız olanlar\n",
        "\n",
        "P(M)=0,35  \n",
        "P(F)=0,45  \n",
        "P(M ∩ F) = 0,25\n",
        "\n",
        "a) P(M|F) = p(F ∩ M) / p(F) = 0,25/0,45 = 5/9 olur.\n",
        "\n",
        "b)P(F|M) = p(F ∩ M) / p(M) = 0,25/0,35 = 5/7 olur.\n",
        "\n"
      ]
    },
    {
      "cell_type": "code",
      "metadata": {
        "colab": {
          "base_uri": "https://localhost:8080/"
        },
        "id": "-dKfcwBpM8r0",
        "outputId": "6e0c7260-8ae0-4f97-d4c2-6982eb3deb74"
      },
      "source": [
        "pM = 0.35\n",
        "pF = 0.45\n",
        "\n",
        "pMF= 0.25\n",
        "\n",
        "resultA = pMF/pF\n",
        "\n",
        "resultB = pMF/pM\n",
        "\n",
        "print(\"Fizikten başarısız olduğu biliniyorsa, matematikten de başarısız olma olasılığı: \", resultA)\n",
        "\n",
        "print(\"Matematikten başarısız olduğu biliniyorsa, fizikten de başarısız olma olasılığı:\", resultB)"
      ],
      "execution_count": 2,
      "outputs": [
        {
          "output_type": "stream",
          "text": [
            "Fizikten başarısız olduğu biliniyorsa, matematikten de başarısız olma olasılığı:  0.5555555555555556\n",
            "Matematikten başarısız olduğu biliniyorsa, fizikten de başarısız olma olasılığı: 0.7142857142857143\n"
          ],
          "name": "stdout"
        }
      ]
    }
  ]
}