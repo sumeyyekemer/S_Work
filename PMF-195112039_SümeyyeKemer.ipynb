{
  "nbformat": 4,
  "nbformat_minor": 0,
  "metadata": {
    "colab": {
      "name": "Untitled1.ipynb",
      "provenance": [],
      "authorship_tag": "ABX9TyNXNXG6UiJTwQek3sgGjh1z",
      "include_colab_link": true
    },
    "kernelspec": {
      "name": "python3",
      "display_name": "Python 3"
    },
    "language_info": {
      "name": "python"
    }
  },
  "cells": [
    {
      "cell_type": "markdown",
      "metadata": {
        "id": "view-in-github",
        "colab_type": "text"
      },
      "source": [
        "<a href=\"https://colab.research.google.com/github/sumeyyekemer/S_Work/blob/master/PMF-195112039_S%C3%BCmeyyeKemer.ipynb\" target=\"_parent\"><img src=\"https://colab.research.google.com/assets/colab-badge.svg\" alt=\"Open In Colab\"/></a>"
      ]
    },
    {
      "cell_type": "code",
      "metadata": {
        "id": "4WE6mlahTAuQ"
      },
      "source": [
        ""
      ],
      "execution_count": null,
      "outputs": []
    },
    {
      "cell_type": "markdown",
      "metadata": {
        "id": "Vp4g9TVxTBiR"
      },
      "source": [
        "\"Olasılık Kütle İşlevi\" (PMF)\n",
        "Bu fonksiyon, bir değişkenin ayrı bir değer elde etme olasılığını değerlendirmek için kullanılır.\n",
        "\n",
        "Örnek: 6 kenarlı bir zarın 1000 atışını yaptığımız bir deney yaparsak ve olası değerlerden (1, 2, 3, 4, 5 veya 6) birini elde etme olasılığı nedir? (Sadece 1 gelme olasılığı veya sadece 2 gibi bir rakam için).  Grafik olarak görselleştirmesi de mevcut kod içerisinde."
      ]
    },
    {
      "cell_type": "code",
      "metadata": {
        "id": "e1-VZe7ZTyhj"
      },
      "source": [
        "import numpy as np\n",
        "import matplotlib.pyplot as plt\n",
        "from scipy.stats import norm\n",
        "plt.style.use('seaborn')\n",
        "\n",
        "np.random.seed(42)\n",
        "\n",
        "#Üst yüze gelen değer 1'den 6'ya kadar 1 ve 6 dahil herhangi bir rakam olabilir.\n",
        "\n",
        "dice_values = [1, 2, 3, 4, 5, 6]\n",
        "N = 1000\n",
        "heads = np.zeros(N, dtype=int)\n",
        "for i in range(N):\n",
        "    heads[i] = np.random.choice(dice_values)\n",
        "heads;\n",
        "\n",
        "values, counts = np.unique(heads, return_counts=True)\n",
        "\n",
        "_ = plt.stem(values, (counts/N * 100), use_line_collection=True)\n",
        "_ = plt.xlabel('Valeur du dé')\n",
        "_ = plt.ylabel('Probabilité du lancer (%)')\n",
        "_ = plt.title('Fonction de Masse (PMF)')\n",
        "\n",
        "plt.show()"
      ],
      "execution_count": null,
      "outputs": []
    }
  ]
}