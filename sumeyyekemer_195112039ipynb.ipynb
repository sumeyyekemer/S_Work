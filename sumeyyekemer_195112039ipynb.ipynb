{
  "nbformat": 4,
  "nbformat_minor": 0,
  "metadata": {
    "colab": {
      "name": "sumeyyekemer.195112039ipynb",
      "provenance": [],
      "collapsed_sections": [],
      "authorship_tag": "ABX9TyN5jQIrR7njcaNgB94kBKrJ",
      "include_colab_link": true
    },
    "kernelspec": {
      "name": "python3",
      "display_name": "Python 3"
    },
    "language_info": {
      "name": "python"
    }
  },
  "cells": [
    {
      "cell_type": "markdown",
      "metadata": {
        "id": "view-in-github",
        "colab_type": "text"
      },
      "source": [
        "<a href=\"https://colab.research.google.com/github/sumeyyekemer/S_Work/blob/master/sumeyyekemer_195112039ipynb.ipynb\" target=\"_parent\"><img src=\"https://colab.research.google.com/assets/colab-badge.svg\" alt=\"Open In Colab\"/></a>"
      ]
    },
    {
      "cell_type": "markdown",
      "metadata": {
        "id": "EqtFo1fri7M_"
      },
      "source": [
        "\n",
        "\n",
        "```\n",
        "# Bu, kod olarak biçimlendirilmiştir\n",
        "```\n",
        "\n",
        "Koşullu Olasılık Ödevi\n",
        "\n",
        "Koşullu olasılık formülü P (A | B) = P (A ∩ B) / P (B) şeklindedir.\n",
        "P (A | B) = B'nin meydana gelmesi durumunda A'nın gerçekleşme olasılığı\n",
        "P (A ∩ B) = hem A hem de B'nin oluşma olasılığı P (B) = B'nin oluşma olasılığıdır.\n",
        "\n",
        "ÖRNEK: İki çocuklu bir ailede, çocuklardan en az biri kızsa, her iki çocuğun da kız olma olasılığı nedir?\n",
        "\n",
        "Öncelikle, \"gerçek dünyada\" gerçekçi olmayan, ancak teorik olasılık soruları için oldukça standart olan birkaç varsayımı ifade edelim.\n",
        "\n",
        "Bir çocuğun kız ya da erkek olma şansı eşittir.\n",
        "Çocuklar sadece kız ya da erkektir.\n",
        "İkinci çocuğun cinsiyeti birinci çocuktan bağımsızdır.\n",
        "\n",
        "Aşağıdaki kod, en az birinin kız olduğu göz önüne alındığında, iki kız çocuğu olma olasılığını hesaplamaktadır.\n",
        "\n"
      ]
    },
    {
      "cell_type": "code",
      "metadata": {
        "colab": {
          "base_uri": "https://localhost:8080/"
        },
        "id": "5DNMvSsNbM8J",
        "outputId": "42febff9-4f21-4a85-daef-2640c54be05f"
      },
      "source": [
        "import random\n",
        "\n",
        "sample_size = 1000\n",
        "\n",
        "num_families_at_least_one_girl = 0\n",
        "num_families_two_girls = 0\n",
        "\n",
        "for i in range(sample_size):\n",
        "    first_child = random.choice([\"boy\", \"girl\"])\n",
        "    second_child = random.choice([\"boy\", \"girl\"])\n",
        "    if first_child == \"girl\" or second_child == \"girl\":\n",
        "        num_families_at_least_one_girl += 1\n",
        "        if first_child == \"girl\" and second_child == \"girl\":\n",
        "            num_families_two_girls += 1\n",
        "\n",
        "result = round(num_families_two_girls / num_families_at_least_one_girl, 2)\n",
        "print(f\"Out of {sample_size} families sampled, {num_families_at_least_one_girl} have at least one girl.\")\n",
        "print(f\"Of these {num_families_two_girls} have two girls.\")\n",
        "print(f\"This gives an experimental probability of {result} to two decimal places that,\")\n",
        "print(\"given at least one child is a girl, both children are girls.\")"
      ],
      "execution_count": null,
      "outputs": [
        {
          "output_type": "stream",
          "text": [
            "Out of 1000 families sampled, 740 have at least one girl.\n",
            "Of these 252 have two girls.\n",
            "This gives an experimental probability of 0.34 to two decimal places that,\n",
            "given at least one child is a girl, both children are girls.\n"
          ],
          "name": "stdout"
        }
      ]
    }
  ]
}