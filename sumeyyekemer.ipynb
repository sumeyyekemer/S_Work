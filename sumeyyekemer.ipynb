{
  "nbformat": 4,
  "nbformat_minor": 0,
  "metadata": {
    "colab": {
      "name": "sumeyyekemer.ipynb",
      "provenance": [],
      "authorship_tag": "ABX9TyOLRVMPHhO2L0+yMpZhXnzg",
      "include_colab_link": true
    },
    "kernelspec": {
      "name": "python3",
      "display_name": "Python 3"
    },
    "language_info": {
      "name": "python"
    }
  },
  "cells": [
    {
      "cell_type": "markdown",
      "metadata": {
        "id": "view-in-github",
        "colab_type": "text"
      },
      "source": [
        "<a href=\"https://colab.research.google.com/github/sumeyyekemer/S_Work/blob/master/sumeyyekemer.ipynb\" target=\"_parent\"><img src=\"https://colab.research.google.com/assets/colab-badge.svg\" alt=\"Open In Colab\"/></a>"
      ]
    },
    {
      "cell_type": "code",
      "metadata": {
        "colab": {
          "base_uri": "https://localhost:8080/"
        },
        "id": "5DNMvSsNbM8J",
        "outputId": "42febff9-4f21-4a85-daef-2640c54be05f"
      },
      "source": [
        "import random\n",
        "\n",
        "sample_size = 1000\n",
        "\n",
        "num_families_at_least_one_girl = 0\n",
        "num_families_two_girls = 0\n",
        "\n",
        "for i in range(sample_size):\n",
        "    first_child = random.choice([\"boy\", \"girl\"])\n",
        "    second_child = random.choice([\"boy\", \"girl\"])\n",
        "    if first_child == \"girl\" or second_child == \"girl\":\n",
        "        num_families_at_least_one_girl += 1\n",
        "        if first_child == \"girl\" and second_child == \"girl\":\n",
        "            num_families_two_girls += 1\n",
        "\n",
        "result = round(num_families_two_girls / num_families_at_least_one_girl, 2)\n",
        "print(f\"Out of {sample_size} families sampled, {num_families_at_least_one_girl} have at least one girl.\")\n",
        "print(f\"Of these {num_families_two_girls} have two girls.\")\n",
        "print(f\"This gives an experimental probability of {result} to two decimal places that,\")\n",
        "print(\"given at least one child is a girl, both children are girls.\")"
      ],
      "execution_count": 21,
      "outputs": [
        {
          "output_type": "stream",
          "text": [
            "Out of 1000 families sampled, 740 have at least one girl.\n",
            "Of these 252 have two girls.\n",
            "This gives an experimental probability of 0.34 to two decimal places that,\n",
            "given at least one child is a girl, both children are girls.\n"
          ],
          "name": "stdout"
        }
      ]
    },
    {
      "cell_type": "markdown",
      "metadata": {
        "id": "YzPum-Caftf3"
      },
      "source": [
        "The formula for conditional probability is P(A|B) = P(A ∩ B) / P(B).\n",
        "The parts:\n",
        "P(A|B) = probability of A occurring, given B occurs\n",
        "P(A ∩ B) = probability of both A and B occurring\n",
        "P(B) = probability of B occurring"
      ]
    }
  ]
}